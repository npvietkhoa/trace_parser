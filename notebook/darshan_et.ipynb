{
 "cells": [
  {
   "cell_type": "code",
   "execution_count": null,
   "id": "85a532e6",
   "metadata": {},
   "outputs": [],
   "source": [
    "import os\n",
    "import re\n",
    "import sys\n",
    "import pandas as pd\n",
    "from collections import defaultdict"
   ]
  },
  {
   "cell_type": "markdown",
   "id": "30ff7937",
   "metadata": {},
   "source": [
    "Hotfix: set path to use packages in current project"
   ]
  },
  {
   "cell_type": "code",
   "execution_count": 52,
   "id": "d377e171",
   "metadata": {},
   "outputs": [],
   "source": [
    "project_root = os.path.join(os.getcwd(), \"trace_parser\")\n",
    "data_dir = os.path.join(project_root, \"data\")\n",
    "sys.path.append(os.path.join(project_root, \"src\"))"
   ]
  },
  {
   "cell_type": "code",
   "execution_count": 60,
   "id": "373cf37e",
   "metadata": {},
   "outputs": [],
   "source": [
    "from darshan_trace_parser.TraceParser import TraceParser\n",
    "from darshan_trace_parser.custom_types import IOModule, IOModule, IOType"
   ]
  },
  {
   "cell_type": "code",
   "execution_count": 54,
   "id": "53a1bac1",
   "metadata": {},
   "outputs": [],
   "source": [
    "trace_dir = \"./NPB-mpi-darshan\"\n",
    "traces = os.listdir(trace_dir)\n",
    "traces = [os.path.join(trace_dir, trace) for trace in traces]"
   ]
  },
  {
   "cell_type": "code",
   "execution_count": 55,
   "id": "625f7ae1",
   "metadata": {},
   "outputs": [
    {
     "data": {
      "text/plain": [
       "['./NPB-mpi-darshan/bt.B.1.mpi_io_full.darshan',\n",
       " './NPB-mpi-darshan/bt.A.16.mpi_io_full.darshan',\n",
       " './NPB-mpi-darshan/bt.C.16.mpi_io_full.darshan',\n",
       " './NPB-mpi-darshan/bt.B.25.mpi_io_full.darshan',\n",
       " './NPB-mpi-darshan/bt.B.9.mpi_io_full.darshan',\n",
       " './NPB-mpi-darshan/bt.C.1.mpi_io_full.darshan',\n",
       " './NPB-mpi-darshan/bt.C.25.mpi_io_full.darshan',\n",
       " './NPB-mpi-darshan/bt.A.9.mpi_io_full.darshan',\n",
       " './NPB-mpi-darshan/bt.A.4.mpi_io_full.darshan',\n",
       " './NPB-mpi-darshan/bt.C.4.mpi_io_full.darshan',\n",
       " './NPB-mpi-darshan/bt.B.4.mpi_io_full.darshan',\n",
       " './NPB-mpi-darshan/bt.C.9.mpi_io_full.darshan',\n",
       " './NPB-mpi-darshan/bt.A.1.mpi_io_full.darshan',\n",
       " './NPB-mpi-darshan/bt.B.16.mpi_io_full.darshan',\n",
       " './NPB-mpi-darshan/bt.A.25.mpi_io_full.darshan']"
      ]
     },
     "execution_count": 55,
     "metadata": {},
     "output_type": "execute_result"
    }
   ],
   "source": [
    "traces"
   ]
  },
  {
   "cell_type": "code",
   "execution_count": 56,
   "id": "f52e9ea5",
   "metadata": {},
   "outputs": [],
   "source": [
    "mod_typ_combs = [\n",
    "    (IOModule.DXT_MPIIO, IOType.READ),\n",
    "    (IOModule.DXT_MPIIO, IOType.WRITE),\n",
    "    (IOModule.DXT_POSIX, IOType.READ),\n",
    "    (IOModule.DXT_POSIX, IOType.WRITE)\n",
    "]"
   ]
  },
  {
   "cell_type": "code",
   "execution_count": 57,
   "id": "91acbc3d",
   "metadata": {},
   "outputs": [],
   "source": [
    "agg_data = defaultdict(dict)\n",
    "for trace in traces:\n",
    "    parsed_trace = TraceParser(trace)\n",
    "    elapsed_time = parsed_trace.aggregate_op_stat(lambda op: op.duration())\n",
    "    data_size  = parsed_trace.aggregate_op_stat(lambda op: op.length)\n",
    "    bandwidth = parsed_trace.aggregate_op_stat(lambda op: op.bandwidth())\n",
    "    \n",
    "    # Use name part bt.X.Y of trace as key\n",
    "    k = re.search(r\"(bt\\.[A-Z]\\.\\d{1,2})(?:\\.mpi_io_full)?\", trace).group(1)\n",
    "\n",
    "    for mod_typ in mod_typ_combs:\n",
    "        agg_data[mod_typ].update({\n",
    "            f\"{k}_time\": pd.Series(elapsed_time[mod_typ]),\n",
    "            f\"{k}_size\": pd.Series(data_size[mod_typ]),\n",
    "            f\"{k}_bandwidth\": pd.Series(bandwidth[mod_typ])\n",
    "        })"
   ]
  },
  {
   "cell_type": "code",
   "execution_count": 58,
   "id": "35f5abf1",
   "metadata": {},
   "outputs": [],
   "source": [
    "# map to csv file names\n",
    "csv_file = {\n",
    "    (IOModule.DXT_MPIIO, IOType.READ): \"MPI_READ\",\n",
    "    (IOModule.DXT_MPIIO, IOType.WRITE): \"MPI_WRITE\",\n",
    "    (IOModule.DXT_POSIX, IOType.READ): \"POSIX_READ\",\n",
    "    (IOModule.DXT_POSIX, IOType.WRITE): \"POSIX_WRITE\"\n",
    "}"
   ]
  },
  {
   "cell_type": "code",
   "execution_count": 59,
   "id": "64bc02de",
   "metadata": {},
   "outputs": [],
   "source": [
    "for k, v in agg_data.items():\n",
    "    csv_out = os.path.join(data_dir, f\"{csv_file[k]}.csv\")\n",
    "    pd.DataFrame(v).to_csv(csv_out)"
   ]
  }
 ],
 "metadata": {
  "kernelspec": {
   "display_name": "Python 3 (ipykernel)",
   "language": "python",
   "name": "python3"
  },
  "language_info": {
   "codemirror_mode": {
    "name": "ipython",
    "version": 3
   },
   "file_extension": ".py",
   "mimetype": "text/x-python",
   "name": "python",
   "nbconvert_exporter": "python",
   "pygments_lexer": "ipython3",
   "version": "3.12.10"
  }
 },
 "nbformat": 4,
 "nbformat_minor": 5
}
