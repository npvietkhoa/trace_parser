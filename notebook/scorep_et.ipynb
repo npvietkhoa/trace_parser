{
 "cells": [
  {
   "cell_type": "code",
   "execution_count": 1,
   "metadata": {},
   "outputs": [],
   "source": [
    "import os\n",
    "import re\n",
    "import sys\n",
    "import pandas as pd\n",
    "from collections import defaultdict"
   ]
  },
  {
   "cell_type": "markdown",
   "metadata": {},
   "source": [
    "Hotfix: set path to use packages in current project"
   ]
  },
  {
   "cell_type": "code",
   "execution_count": 15,
   "metadata": {},
   "outputs": [],
   "source": [
    "project_root = os.path.join(os.getcwd(), \"trace_parser\")\n",
    "data_dir = os.path.join(project_root, \"data/scorep\")\n",
    "sys.path.append(os.path.join(project_root, \"src\"))"
   ]
  },
  {
   "cell_type": "code",
   "execution_count": 3,
   "metadata": {},
   "outputs": [],
   "source": [
    "from scorep_trace_parser import IOOP, TraceParser\n",
    "from scorep_trace_parser.custom_types import IOMod, IOPradigm"
   ]
  },
  {
   "cell_type": "code",
   "execution_count": 4,
   "metadata": {},
   "outputs": [],
   "source": [
    "trace_dir = \"./NPB-mpi-scorep\"\n",
    "traces = os.listdir(trace_dir)\n",
    "traces = [os.path.join(trace_dir, trace, \"traces.otf2\") for trace in traces]"
   ]
  },
  {
   "cell_type": "code",
   "execution_count": 5,
   "metadata": {},
   "outputs": [
    {
     "data": {
      "text/plain": [
       "['./NPB-mpi-scorep/bt.C.16.mpi_io_full/traces.otf2',\n",
       " './NPB-mpi-scorep/bt.A.1.mpi_io_full/traces.otf2',\n",
       " './NPB-mpi-scorep/bt.C.1.mpi_io_full/traces.otf2',\n",
       " './NPB-mpi-scorep/bt.B.9.mpi_io_full/traces.otf2',\n",
       " './NPB-mpi-scorep/bt.B.16.mpi_io_full/traces.otf2',\n",
       " './NPB-mpi-scorep/bt.A.25.mpi_io_full/traces.otf2',\n",
       " './NPB-mpi-scorep/bt.B.25.mpi_io_full/traces.otf2',\n",
       " './NPB-mpi-scorep/bt.C.4.mpi_io_full/traces.otf2',\n",
       " './NPB-mpi-scorep/bt.C.9.mpi_io_full/traces.otf2',\n",
       " './NPB-mpi-scorep/bt.A.16.mpi_io_full/traces.otf2',\n",
       " './NPB-mpi-scorep/bt.B.1.mpi_io_full/traces.otf2',\n",
       " './NPB-mpi-scorep/bt.A.9.mpi_io_full/traces.otf2',\n",
       " './NPB-mpi-scorep/bt.A.4.mpi_io_full/traces.otf2',\n",
       " './NPB-mpi-scorep/bt.B.4.mpi_io_full/traces.otf2',\n",
       " './NPB-mpi-scorep/bt.C.25.mpi_io_full/traces.otf2']"
      ]
     },
     "execution_count": 5,
     "metadata": {},
     "output_type": "execute_result"
    }
   ],
   "source": [
    "traces"
   ]
  },
  {
   "cell_type": "code",
   "execution_count": 6,
   "metadata": {},
   "outputs": [],
   "source": [
    "pradigm_mod_combs = [\n",
    "    (IOPradigm.POSIX, IOMod.READ),\n",
    "    (IOPradigm.POSIX, IOMod.WRITE),\n",
    "    (IOPradigm.MPIIO, IOMod.READ),\n",
    "    (IOPradigm.MPIIO, IOMod.WRITE),\n",
    "]"
   ]
  },
  {
   "cell_type": "code",
   "execution_count": 8,
   "metadata": {},
   "outputs": [],
   "source": [
    "agg_data = defaultdict(dict)\n",
    "for trace in traces:\n",
    "    trace_parser = TraceParser(trace)\n",
    "    timer_res = trace_parser.time_resolution\n",
    "    elapsed_time = trace_parser.aggregate_op_stat(lambda op: op.duration / timer_res)\n",
    "    data_size  = trace_parser.aggregate_op_stat(lambda op: op.bytes_request)\n",
    "    bandwidth = trace_parser.aggregate_op_stat(lambda op: op.byte_rate * timer_res)\n",
    "\n",
    "    # Use name part bt.X.Y of trace as key\n",
    "    k = re.search(r\"(bt\\.[A-Z]\\.\\d{1,2})(?:\\.mpi_io_full)?\", trace).group(1)\n",
    "    paradigm_mod_combs = elapsed_time.keys()\n",
    "    for mod_typ in paradigm_mod_combs:\n",
    "        agg_data[mod_typ].update({\n",
    "            f\"{k}_time\": pd.Series(elapsed_time[mod_typ]),\n",
    "            f\"{k}_size\": pd.Series(data_size[mod_typ]),\n",
    "            f\"{k}_bandwidth\": pd.Series(bandwidth[mod_typ])\n",
    "        })"
   ]
  },
  {
   "cell_type": "code",
   "execution_count": 11,
   "metadata": {},
   "outputs": [],
   "source": [
    "csv_file = {\n",
    "    (IOMod.READ, IOPradigm.MPIIO): \"MPI_READ\",\n",
    "    (IOMod.WRITE, IOPradigm.MPIIO): \"MPI_WRITE\",\n",
    "    (IOMod.READ, IOPradigm.POSIX): \"POSIX_READ\",\n",
    "    (IOMod.WRITE, IOPradigm.POSIX): \"POSIX_WRITE\"\n",
    "}"
   ]
  },
  {
   "cell_type": "code",
   "execution_count": 16,
   "metadata": {},
   "outputs": [],
   "source": [
    "for k, v in agg_data.items():\n",
    "    csv_out = os.path.join(data_dir, f\"{csv_file[k]}.csv\")\n",
    "    pd.DataFrame(v).to_csv(csv_out)"
   ]
  }
 ],
 "metadata": {
  "kernelspec": {
   "display_name": "Python 3 (ipykernel)",
   "language": "python",
   "name": "python3"
  }
 },
 "nbformat": 4,
 "nbformat_minor": 2
}
